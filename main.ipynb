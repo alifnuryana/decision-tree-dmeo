{
 "cells": [
  {
   "cell_type": "markdown",
   "source": [
    "Pertama, import terlebih dahulu seluruh library yang dibutuhkan."
   ],
   "metadata": {
    "collapsed": false
   },
   "id": "1a353e4047c4abee"
  },
  {
   "cell_type": "code",
   "execution_count": 1,
   "outputs": [],
   "source": [
    "import pandas\n",
    "from sklearn.feature_extraction.text import TfidfVectorizer\n",
    "from sklearn.model_selection import train_test_split\n",
    "from sklearn.tree import DecisionTreeClassifier\n",
    "from sklearn.metrics import accuracy_score, classification_report"
   ],
   "metadata": {
    "collapsed": false,
    "ExecuteTime": {
     "end_time": "2023-10-08T13:36:31.648172541Z",
     "start_time": "2023-10-08T13:36:29.877636218Z"
    }
   },
   "id": "496d951fea24925d"
  },
  {
   "cell_type": "raw",
   "source": [
    "Lalu kita membaca terlebih dahulu dataset dan ubah menjadi DataFrame menggunakan pandas."
   ],
   "metadata": {
    "collapsed": false
   },
   "id": "23f6b3aa2ca12e9e"
  },
  {
   "cell_type": "code",
   "execution_count": 2,
   "outputs": [
    {
     "data": {
      "text/plain": "                                                link  \\\n0  https://www.huffpost.com/entry/covid-boosters-...   \n1  https://www.huffpost.com/entry/american-airlin...   \n2  https://www.huffpost.com/entry/funniest-tweets...   \n3  https://www.huffpost.com/entry/funniest-parent...   \n4  https://www.huffpost.com/entry/amy-cooper-lose...   \n\n                                            headline   category  \\\n0  Over 4 Million Americans Roll Up Sleeves For O...  U.S. NEWS   \n1  American Airlines Flyer Charged, Banned For Li...  U.S. NEWS   \n2  23 Of The Funniest Tweets About Cats And Dogs ...     COMEDY   \n3  The Funniest Tweets From Parents This Week (Se...  PARENTING   \n4  Woman Who Called Cops On Black Bird-Watcher Lo...  U.S. NEWS   \n\n                                   short_description               authors  \\\n0  Health experts said it is too early to predict...  Carla K. Johnson, AP   \n1  He was subdued by passengers and crew when he ...        Mary Papenfuss   \n2  \"Until you have a dog you don't understand wha...         Elyse Wanshel   \n3  \"Accidentally put grown-up toothpaste on my to...      Caroline Bologna   \n4  Amy Cooper accused investment firm Franklin Te...        Nina Golgowski   \n\n        date  \n0 2022-09-23  \n1 2022-09-23  \n2 2022-09-23  \n3 2022-09-23  \n4 2022-09-22  ",
      "text/html": "<div>\n<style scoped>\n    .dataframe tbody tr th:only-of-type {\n        vertical-align: middle;\n    }\n\n    .dataframe tbody tr th {\n        vertical-align: top;\n    }\n\n    .dataframe thead th {\n        text-align: right;\n    }\n</style>\n<table border=\"1\" class=\"dataframe\">\n  <thead>\n    <tr style=\"text-align: right;\">\n      <th></th>\n      <th>link</th>\n      <th>headline</th>\n      <th>category</th>\n      <th>short_description</th>\n      <th>authors</th>\n      <th>date</th>\n    </tr>\n  </thead>\n  <tbody>\n    <tr>\n      <th>0</th>\n      <td>https://www.huffpost.com/entry/covid-boosters-...</td>\n      <td>Over 4 Million Americans Roll Up Sleeves For O...</td>\n      <td>U.S. NEWS</td>\n      <td>Health experts said it is too early to predict...</td>\n      <td>Carla K. Johnson, AP</td>\n      <td>2022-09-23</td>\n    </tr>\n    <tr>\n      <th>1</th>\n      <td>https://www.huffpost.com/entry/american-airlin...</td>\n      <td>American Airlines Flyer Charged, Banned For Li...</td>\n      <td>U.S. NEWS</td>\n      <td>He was subdued by passengers and crew when he ...</td>\n      <td>Mary Papenfuss</td>\n      <td>2022-09-23</td>\n    </tr>\n    <tr>\n      <th>2</th>\n      <td>https://www.huffpost.com/entry/funniest-tweets...</td>\n      <td>23 Of The Funniest Tweets About Cats And Dogs ...</td>\n      <td>COMEDY</td>\n      <td>\"Until you have a dog you don't understand wha...</td>\n      <td>Elyse Wanshel</td>\n      <td>2022-09-23</td>\n    </tr>\n    <tr>\n      <th>3</th>\n      <td>https://www.huffpost.com/entry/funniest-parent...</td>\n      <td>The Funniest Tweets From Parents This Week (Se...</td>\n      <td>PARENTING</td>\n      <td>\"Accidentally put grown-up toothpaste on my to...</td>\n      <td>Caroline Bologna</td>\n      <td>2022-09-23</td>\n    </tr>\n    <tr>\n      <th>4</th>\n      <td>https://www.huffpost.com/entry/amy-cooper-lose...</td>\n      <td>Woman Who Called Cops On Black Bird-Watcher Lo...</td>\n      <td>U.S. NEWS</td>\n      <td>Amy Cooper accused investment firm Franklin Te...</td>\n      <td>Nina Golgowski</td>\n      <td>2022-09-22</td>\n    </tr>\n  </tbody>\n</table>\n</div>"
     },
     "execution_count": 2,
     "metadata": {},
     "output_type": "execute_result"
    }
   ],
   "source": [
    "# Membaca data json dan mengubah menjadi DataFrame pandas.\n",
    "dataframe = pandas.read_json('./datas/News_Category_Dataset_v3.json', lines=True)\n",
    "\n",
    "# Melihat / Preview record paling atas.\n",
    "dataframe.head()"
   ],
   "metadata": {
    "collapsed": false,
    "ExecuteTime": {
     "end_time": "2023-10-08T13:36:34.936244817Z",
     "start_time": "2023-10-08T13:36:31.649894366Z"
    }
   },
   "id": "7727caa27876c425"
  },
  {
   "cell_type": "markdown",
   "source": [
    "Lalu, kita harus memilih mana yang akan dijadikan feature atribute dan target atribute.\n",
    "Kita akan jadikan kategori sebagai target atribut, dan sisanya akan menjadi feature atribute.\n",
    "\n",
    "Kita akan jadikan atribute headline, short_description dan author menjadi satu kesatuan atribute baru. menjadi atribut content."
   ],
   "metadata": {
    "collapsed": false
   },
   "id": "d8e40f43761fa0a4"
  },
  {
   "cell_type": "code",
   "execution_count": 3,
   "outputs": [
    {
     "data": {
      "text/plain": "                                                link  \\\n0  https://www.huffpost.com/entry/covid-boosters-...   \n1  https://www.huffpost.com/entry/american-airlin...   \n2  https://www.huffpost.com/entry/funniest-tweets...   \n3  https://www.huffpost.com/entry/funniest-parent...   \n4  https://www.huffpost.com/entry/amy-cooper-lose...   \n\n                                            headline   category  \\\n0  Over 4 Million Americans Roll Up Sleeves For O...  U.S. NEWS   \n1  American Airlines Flyer Charged, Banned For Li...  U.S. NEWS   \n2  23 Of The Funniest Tweets About Cats And Dogs ...     COMEDY   \n3  The Funniest Tweets From Parents This Week (Se...  PARENTING   \n4  Woman Who Called Cops On Black Bird-Watcher Lo...  U.S. NEWS   \n\n                                   short_description               authors  \\\n0  Health experts said it is too early to predict...  Carla K. Johnson, AP   \n1  He was subdued by passengers and crew when he ...        Mary Papenfuss   \n2  \"Until you have a dog you don't understand wha...         Elyse Wanshel   \n3  \"Accidentally put grown-up toothpaste on my to...      Caroline Bologna   \n4  Amy Cooper accused investment firm Franklin Te...        Nina Golgowski   \n\n        date                                            content  \n0 2022-09-23  Over 4 Million Americans Roll Up Sleeves For O...  \n1 2022-09-23  American Airlines Flyer Charged, Banned For Li...  \n2 2022-09-23  23 Of The Funniest Tweets About Cats And Dogs ...  \n3 2022-09-23  The Funniest Tweets From Parents This Week (Se...  \n4 2022-09-22  Woman Who Called Cops On Black Bird-Watcher Lo...  ",
      "text/html": "<div>\n<style scoped>\n    .dataframe tbody tr th:only-of-type {\n        vertical-align: middle;\n    }\n\n    .dataframe tbody tr th {\n        vertical-align: top;\n    }\n\n    .dataframe thead th {\n        text-align: right;\n    }\n</style>\n<table border=\"1\" class=\"dataframe\">\n  <thead>\n    <tr style=\"text-align: right;\">\n      <th></th>\n      <th>link</th>\n      <th>headline</th>\n      <th>category</th>\n      <th>short_description</th>\n      <th>authors</th>\n      <th>date</th>\n      <th>content</th>\n    </tr>\n  </thead>\n  <tbody>\n    <tr>\n      <th>0</th>\n      <td>https://www.huffpost.com/entry/covid-boosters-...</td>\n      <td>Over 4 Million Americans Roll Up Sleeves For O...</td>\n      <td>U.S. NEWS</td>\n      <td>Health experts said it is too early to predict...</td>\n      <td>Carla K. Johnson, AP</td>\n      <td>2022-09-23</td>\n      <td>Over 4 Million Americans Roll Up Sleeves For O...</td>\n    </tr>\n    <tr>\n      <th>1</th>\n      <td>https://www.huffpost.com/entry/american-airlin...</td>\n      <td>American Airlines Flyer Charged, Banned For Li...</td>\n      <td>U.S. NEWS</td>\n      <td>He was subdued by passengers and crew when he ...</td>\n      <td>Mary Papenfuss</td>\n      <td>2022-09-23</td>\n      <td>American Airlines Flyer Charged, Banned For Li...</td>\n    </tr>\n    <tr>\n      <th>2</th>\n      <td>https://www.huffpost.com/entry/funniest-tweets...</td>\n      <td>23 Of The Funniest Tweets About Cats And Dogs ...</td>\n      <td>COMEDY</td>\n      <td>\"Until you have a dog you don't understand wha...</td>\n      <td>Elyse Wanshel</td>\n      <td>2022-09-23</td>\n      <td>23 Of The Funniest Tweets About Cats And Dogs ...</td>\n    </tr>\n    <tr>\n      <th>3</th>\n      <td>https://www.huffpost.com/entry/funniest-parent...</td>\n      <td>The Funniest Tweets From Parents This Week (Se...</td>\n      <td>PARENTING</td>\n      <td>\"Accidentally put grown-up toothpaste on my to...</td>\n      <td>Caroline Bologna</td>\n      <td>2022-09-23</td>\n      <td>The Funniest Tweets From Parents This Week (Se...</td>\n    </tr>\n    <tr>\n      <th>4</th>\n      <td>https://www.huffpost.com/entry/amy-cooper-lose...</td>\n      <td>Woman Who Called Cops On Black Bird-Watcher Lo...</td>\n      <td>U.S. NEWS</td>\n      <td>Amy Cooper accused investment firm Franklin Te...</td>\n      <td>Nina Golgowski</td>\n      <td>2022-09-22</td>\n      <td>Woman Who Called Cops On Black Bird-Watcher Lo...</td>\n    </tr>\n  </tbody>\n</table>\n</div>"
     },
     "execution_count": 3,
     "metadata": {},
     "output_type": "execute_result"
    }
   ],
   "source": [
    "dataframe['content'] = dataframe['headline'] + ' ' + dataframe['short_description'] + ' ' + dataframe['authors']\n",
    "\n",
    "dataframe.head()"
   ],
   "metadata": {
    "collapsed": false,
    "ExecuteTime": {
     "end_time": "2023-10-08T13:36:35.321484561Z",
     "start_time": "2023-10-08T13:36:34.933936037Z"
    }
   },
   "id": "976ba1ab04b6f80e"
  },
  {
   "cell_type": "markdown",
   "source": [
    "Lalu kita akan membagi beberapa dataframe kedalam dua data. DataFrame Pelatihan & DataFrame Pengujian\n",
    "\n",
    "Kita akan membuat DataFrame untuk pengujian sebesar 20%"
   ],
   "metadata": {
    "collapsed": false
   },
   "id": "e9757dcfe69635f4"
  },
  {
   "cell_type": "code",
   "execution_count": 4,
   "outputs": [],
   "source": [
    "X = dataframe['content'] # Atribut Feature Gabungna\n",
    "y = dataframe['category'] # Atribut Target / Class\n",
    "\n",
    "# Membagi data menjadi dua, data pelatihan & data pengujian\n",
    "X_train, X_test, y_train, y_test= train_test_split(X, y, test_size=0.2, random_state=42)"
   ],
   "metadata": {
    "collapsed": false,
    "ExecuteTime": {
     "end_time": "2023-10-08T13:36:35.466736606Z",
     "start_time": "2023-10-08T13:36:35.314111625Z"
    }
   },
   "id": "3eb8d7b4ff1b2b24"
  },
  {
   "cell_type": "markdown",
   "source": [
    "Karena kita akan menggunakan decision tree maka kita harus mengubah seluruh atribut feature menjadi numeric menggunakan TF-IDF atau biasa dikenal dengan ekstraksi fitur teks kedalam numeric."
   ],
   "metadata": {
    "collapsed": false
   },
   "id": "92a4b5a95e53353a"
  },
  {
   "cell_type": "code",
   "execution_count": 5,
   "outputs": [],
   "source": [
    "tfidf_vectorizer = TfidfVectorizer(max_features=5000) # Inisiasi object TfidfVectorizer\n",
    "\n",
    "X_train_tfidf = tfidf_vectorizer.fit_transform(X_train) # Lakukan ekstraksi pada data untuk pelatihan.\n",
    "X_test_tfidf = tfidf_vectorizer.transform(X_test) # Lakukan ekstraksi pada data untuk test."
   ],
   "metadata": {
    "collapsed": false,
    "ExecuteTime": {
     "end_time": "2023-10-08T13:36:45.618951476Z",
     "start_time": "2023-10-08T13:36:35.385792201Z"
    }
   },
   "id": "be9f9e9168a13cf4"
  },
  {
   "cell_type": "markdown",
   "source": [
    "Lalu kita akan latih dataframe menggunakan DecisionTree dan melatihnya hingga menghasilkan model."
   ],
   "metadata": {
    "collapsed": false
   },
   "id": "3225ef5233908199"
  },
  {
   "cell_type": "code",
   "execution_count": null,
   "outputs": [],
   "source": [
    "clf = DecisionTreeClassifier() # Inisiasi object algoritma DecisionTree\n",
    "\n",
    "# X itu adalah atribut feature yang telah digabungkan dan telah di ekstraksi\n",
    "# Y itu adalah atribut target yang ada isinya.\n",
    "clf.fit(X_train_tfidf, y_train)"
   ],
   "metadata": {
    "collapsed": false,
    "is_executing": true,
    "ExecuteTime": {
     "start_time": "2023-10-08T13:36:45.598332699Z"
    }
   },
   "id": "5f49a70ef7bc949c"
  },
  {
   "cell_type": "markdown",
   "source": [
    "Kita akan langsung prediksi menggunkan model yang sudah dibangun."
   ],
   "metadata": {
    "collapsed": false
   },
   "id": "e95d945b3d2c1c19"
  },
  {
   "cell_type": "code",
   "execution_count": null,
   "outputs": [],
   "source": [
    "y_pred = clf.predict(X_train_tfidf, y_train)"
   ],
   "metadata": {
    "collapsed": false,
    "is_executing": true
   },
   "id": "6ef1b70b6d60064d"
  },
  {
   "cell_type": "markdown",
   "source": [
    "Lalu kita ukur kinerja model nya."
   ],
   "metadata": {
    "collapsed": false
   },
   "id": "c5fe6261e588b3b6"
  },
  {
   "cell_type": "code",
   "execution_count": null,
   "outputs": [],
   "source": [
    "# kita bandingkan atribut target dengan atribut target hasil predict dari model \n",
    "accuracy = accuracy_score(y_test, y_pred)\n",
    "\n",
    "print(f'Akurasi : {accuracy:.2f}')\n",
    "\n",
    "classification_report = classification_report(y_test, y_pred)\n",
    "\n",
    "print('Laporan Klasifikasi:\\n', classification_report)"
   ],
   "metadata": {
    "collapsed": false,
    "is_executing": true
   },
   "id": "85bb4294e62909df"
  }
 ],
 "metadata": {
  "kernelspec": {
   "display_name": "Python 3",
   "language": "python",
   "name": "python3"
  },
  "language_info": {
   "codemirror_mode": {
    "name": "ipython",
    "version": 2
   },
   "file_extension": ".py",
   "mimetype": "text/x-python",
   "name": "python",
   "nbconvert_exporter": "python",
   "pygments_lexer": "ipython2",
   "version": "2.7.6"
  }
 },
 "nbformat": 4,
 "nbformat_minor": 5
}
