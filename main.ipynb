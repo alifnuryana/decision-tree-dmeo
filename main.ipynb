{
 "cells": [
  {
   "cell_type": "markdown",
   "id": "1a353e4047c4abee",
   "metadata": {
    "collapsed": false
   },
   "source": [
    "Pertama, import terlebih dahulu seluruh library yang dibutuhkan."
   ]
  },
  {
   "cell_type": "code",
   "execution_count": 37,
   "id": "496d951fea24925d",
   "metadata": {
    "collapsed": false,
    "ExecuteTime": {
     "end_time": "2023-10-08T14:01:08.606363895Z",
     "start_time": "2023-10-08T14:01:08.532368130Z"
    }
   },
   "outputs": [],
   "source": [
    "import pandas\n",
    "from sklearn.feature_extraction.text import TfidfVectorizer\n",
    "from sklearn.model_selection import train_test_split\n",
    "from sklearn.tree import DecisionTreeClassifier\n",
    "from sklearn.metrics import accuracy_score, classification_report"
   ]
  },
  {
   "cell_type": "raw",
   "id": "23f6b3aa2ca12e9e",
   "metadata": {
    "collapsed": false
   },
   "source": [
    "Lalu kita membaca terlebih dahulu dataset dan ubah menjadi DataFrame menggunakan pandas."
   ]
  },
  {
   "cell_type": "code",
   "execution_count": 38,
   "id": "7727caa27876c425",
   "metadata": {
    "collapsed": false,
    "ExecuteTime": {
     "end_time": "2023-10-08T14:01:10.744935604Z",
     "start_time": "2023-10-08T14:01:08.546584989Z"
    }
   },
   "outputs": [
    {
     "name": "stdout",
     "output_type": "stream",
     "text": [
      "Dataset Sebelum Random Sampling :\n",
      " 209527\n",
      "Dataset Setelah Random Samping :\n",
      " 10000\n"
     ]
    }
   ],
   "source": [
    "# Membaca data json dan mengubah menjadi DataFrame pandas.\n",
    "dataframe_real = pandas.read_json('./datas/News_Category_Dataset_v3.json', lines=True)\n",
    "\n",
    "print('Dataset Sebelum Random Sampling :\\n', len(dataframe_real))\n",
    "\n",
    "dataframe = dataframe_real.sample(n=20000, random_state=42)\n",
    "print('Dataset Setelah Random Samping :\\n', len(dataframe))"
   ]
  },
  {
   "cell_type": "markdown",
   "id": "d8e40f43761fa0a4",
   "metadata": {
    "collapsed": false
   },
   "source": [
    "Lalu, kita harus memilih mana yang akan dijadikan feature atribute dan target atribute.\n",
    "Kita akan jadikan kategori sebagai target atribut, dan sisanya akan menjadi feature atribute.\n",
    "\n",
    "Kita akan jadikan atribute headline, short_description dan author menjadi satu kesatuan atribute baru. menjadi atribut content."
   ]
  },
  {
   "cell_type": "code",
   "execution_count": 39,
   "id": "976ba1ab04b6f80e",
   "metadata": {
    "collapsed": false,
    "ExecuteTime": {
     "end_time": "2023-10-08T14:01:10.755562439Z",
     "start_time": "2023-10-08T14:01:10.718059984Z"
    }
   },
   "outputs": [
    {
     "data": {
      "text/plain": "                                                     link  \\\n128310  https://www.huffingtonpost.com/entry/what-if-w...   \n139983  https://www.huffingtonpost.comhttp://www.washi...   \n42339   https://www.huffingtonpost.com/entry/time-runs...   \n131494  https://www.huffingtonpost.com/entry/one-glimp...   \n163649  https://www.huffingtonpost.com/entry/mens-swea...   \n\n                                                 headline  category  \\\n128310    What If We Were All Family Generation Changers?    IMPACT   \n139983        Firestorm At AOL Over Employee Benefit Cuts  BUSINESS   \n42339   Dakota Access Protesters Arrested As Deadline ...  POLITICS   \n131494  One Glimpse Of These Baby Kit Foxes And You'll...     GREEN   \n163649  Mens' Sweat Pheromone, Androstadienone, Influe...   SCIENCE   \n\n                                        short_description  \\\n128310  What if, in doing so, we won't just create new...   \n139983  It should have been a glorious week for AOL ch...   \n42339   A few protesters who refused to leave remained...   \n131494                                                      \n163649  Scientists didn't know if humans played that g...   \n\n                                                  authors       date  \\\n128310  Matt Murrie, ContributorEdupreneur, Cofounder/... 2014-06-20   \n139983                                                    2014-02-08   \n42339   Michael McLaughlin & Josh Morgan, The Huffingt... 2017-02-22   \n131494                                                    2014-05-14   \n163649                                     Melissa Cronin 2013-06-02   \n\n                                                  content  \n128310  What If We Were All Family Generation Changers...  \n139983  Firestorm At AOL Over Employee Benefit Cuts It...  \n42339   Dakota Access Protesters Arrested As Deadline ...  \n131494  One Glimpse Of These Baby Kit Foxes And You'll...  \n163649  Mens' Sweat Pheromone, Androstadienone, Influe...  ",
      "text/html": "<div>\n<style scoped>\n    .dataframe tbody tr th:only-of-type {\n        vertical-align: middle;\n    }\n\n    .dataframe tbody tr th {\n        vertical-align: top;\n    }\n\n    .dataframe thead th {\n        text-align: right;\n    }\n</style>\n<table border=\"1\" class=\"dataframe\">\n  <thead>\n    <tr style=\"text-align: right;\">\n      <th></th>\n      <th>link</th>\n      <th>headline</th>\n      <th>category</th>\n      <th>short_description</th>\n      <th>authors</th>\n      <th>date</th>\n      <th>content</th>\n    </tr>\n  </thead>\n  <tbody>\n    <tr>\n      <th>128310</th>\n      <td>https://www.huffingtonpost.com/entry/what-if-w...</td>\n      <td>What If We Were All Family Generation Changers?</td>\n      <td>IMPACT</td>\n      <td>What if, in doing so, we won't just create new...</td>\n      <td>Matt Murrie, ContributorEdupreneur, Cofounder/...</td>\n      <td>2014-06-20</td>\n      <td>What If We Were All Family Generation Changers...</td>\n    </tr>\n    <tr>\n      <th>139983</th>\n      <td>https://www.huffingtonpost.comhttp://www.washi...</td>\n      <td>Firestorm At AOL Over Employee Benefit Cuts</td>\n      <td>BUSINESS</td>\n      <td>It should have been a glorious week for AOL ch...</td>\n      <td></td>\n      <td>2014-02-08</td>\n      <td>Firestorm At AOL Over Employee Benefit Cuts It...</td>\n    </tr>\n    <tr>\n      <th>42339</th>\n      <td>https://www.huffingtonpost.com/entry/time-runs...</td>\n      <td>Dakota Access Protesters Arrested As Deadline ...</td>\n      <td>POLITICS</td>\n      <td>A few protesters who refused to leave remained...</td>\n      <td>Michael McLaughlin &amp; Josh Morgan, The Huffingt...</td>\n      <td>2017-02-22</td>\n      <td>Dakota Access Protesters Arrested As Deadline ...</td>\n    </tr>\n    <tr>\n      <th>131494</th>\n      <td>https://www.huffingtonpost.com/entry/one-glimp...</td>\n      <td>One Glimpse Of These Baby Kit Foxes And You'll...</td>\n      <td>GREEN</td>\n      <td></td>\n      <td></td>\n      <td>2014-05-14</td>\n      <td>One Glimpse Of These Baby Kit Foxes And You'll...</td>\n    </tr>\n    <tr>\n      <th>163649</th>\n      <td>https://www.huffingtonpost.com/entry/mens-swea...</td>\n      <td>Mens' Sweat Pheromone, Androstadienone, Influe...</td>\n      <td>SCIENCE</td>\n      <td>Scientists didn't know if humans played that g...</td>\n      <td>Melissa Cronin</td>\n      <td>2013-06-02</td>\n      <td>Mens' Sweat Pheromone, Androstadienone, Influe...</td>\n    </tr>\n  </tbody>\n</table>\n</div>"
     },
     "execution_count": 39,
     "metadata": {},
     "output_type": "execute_result"
    }
   ],
   "source": [
    "dataframe['content'] = dataframe['headline'] + ' ' + dataframe['short_description'] + ' ' + dataframe['authors']\n",
    "\n",
    "dataframe.head()"
   ]
  },
  {
   "cell_type": "markdown",
   "id": "e9757dcfe69635f4",
   "metadata": {
    "collapsed": false
   },
   "source": [
    "Lalu kita akan membagi beberapa dataframe kedalam dua data. DataFrame Pelatihan & DataFrame Pengujian\n",
    "\n",
    "Kita akan membuat DataFrame untuk pengujian sebesar 20%"
   ]
  },
  {
   "cell_type": "code",
   "execution_count": 40,
   "id": "3eb8d7b4ff1b2b24",
   "metadata": {
    "collapsed": false,
    "ExecuteTime": {
     "end_time": "2023-10-08T14:01:10.756268054Z",
     "start_time": "2023-10-08T14:01:10.721857084Z"
    }
   },
   "outputs": [],
   "source": [
    "X = dataframe['content'] # Atribut Feature Gabungna\n",
    "y = dataframe['category'] # Atribut Target / Class\n",
    "\n",
    "# Membagi data menjadi dua, data pelatihan & data pengujian\n",
    "X_train, X_test, y_train, y_test = train_test_split(X, y, test_size=0.2, random_state=42)"
   ]
  },
  {
   "cell_type": "markdown",
   "id": "92a4b5a95e53353a",
   "metadata": {
    "collapsed": false
   },
   "source": [
    "Karena kita akan menggunakan decision tree maka kita harus mengubah seluruh atribut feature menjadi numeric menggunakan TF-IDF atau biasa dikenal dengan ekstraksi fitur teks kedalam numeric."
   ]
  },
  {
   "cell_type": "code",
   "execution_count": 41,
   "id": "be9f9e9168a13cf4",
   "metadata": {
    "collapsed": false,
    "ExecuteTime": {
     "end_time": "2023-10-08T14:01:11.282708853Z",
     "start_time": "2023-10-08T14:01:10.734299362Z"
    }
   },
   "outputs": [],
   "source": [
    "tfidf_vectorizer = TfidfVectorizer(max_features=None) # Inisiasi object TfidfVectorizer\n",
    "\n",
    "X_train_tfidf = tfidf_vectorizer.fit_transform(X_train) # Lakukan ekstraksi pada data untuk pelatihan.\n",
    "X_test_tfidf = tfidf_vectorizer.transform(X_test) # Lakukan ekstraksi pada data untuk test."
   ]
  },
  {
   "cell_type": "markdown",
   "id": "3225ef5233908199",
   "metadata": {
    "collapsed": false
   },
   "source": [
    "Lalu kita akan latih dataframe menggunakan DecisionTree dan melatihnya hingga menghasilkan model."
   ]
  },
  {
   "cell_type": "code",
   "execution_count": 42,
   "id": "5f49a70ef7bc949c",
   "metadata": {
    "collapsed": false,
    "ExecuteTime": {
     "end_time": "2023-10-08T14:01:19.784101362Z",
     "start_time": "2023-10-08T14:01:11.279078694Z"
    }
   },
   "outputs": [
    {
     "data": {
      "text/plain": "DecisionTreeClassifier()",
      "text/html": "<style>#sk-container-id-5 {color: black;}#sk-container-id-5 pre{padding: 0;}#sk-container-id-5 div.sk-toggleable {background-color: white;}#sk-container-id-5 label.sk-toggleable__label {cursor: pointer;display: block;width: 100%;margin-bottom: 0;padding: 0.3em;box-sizing: border-box;text-align: center;}#sk-container-id-5 label.sk-toggleable__label-arrow:before {content: \"▸\";float: left;margin-right: 0.25em;color: #696969;}#sk-container-id-5 label.sk-toggleable__label-arrow:hover:before {color: black;}#sk-container-id-5 div.sk-estimator:hover label.sk-toggleable__label-arrow:before {color: black;}#sk-container-id-5 div.sk-toggleable__content {max-height: 0;max-width: 0;overflow: hidden;text-align: left;background-color: #f0f8ff;}#sk-container-id-5 div.sk-toggleable__content pre {margin: 0.2em;color: black;border-radius: 0.25em;background-color: #f0f8ff;}#sk-container-id-5 input.sk-toggleable__control:checked~div.sk-toggleable__content {max-height: 200px;max-width: 100%;overflow: auto;}#sk-container-id-5 input.sk-toggleable__control:checked~label.sk-toggleable__label-arrow:before {content: \"▾\";}#sk-container-id-5 div.sk-estimator input.sk-toggleable__control:checked~label.sk-toggleable__label {background-color: #d4ebff;}#sk-container-id-5 div.sk-label input.sk-toggleable__control:checked~label.sk-toggleable__label {background-color: #d4ebff;}#sk-container-id-5 input.sk-hidden--visually {border: 0;clip: rect(1px 1px 1px 1px);clip: rect(1px, 1px, 1px, 1px);height: 1px;margin: -1px;overflow: hidden;padding: 0;position: absolute;width: 1px;}#sk-container-id-5 div.sk-estimator {font-family: monospace;background-color: #f0f8ff;border: 1px dotted black;border-radius: 0.25em;box-sizing: border-box;margin-bottom: 0.5em;}#sk-container-id-5 div.sk-estimator:hover {background-color: #d4ebff;}#sk-container-id-5 div.sk-parallel-item::after {content: \"\";width: 100%;border-bottom: 1px solid gray;flex-grow: 1;}#sk-container-id-5 div.sk-label:hover label.sk-toggleable__label {background-color: #d4ebff;}#sk-container-id-5 div.sk-serial::before {content: \"\";position: absolute;border-left: 1px solid gray;box-sizing: border-box;top: 0;bottom: 0;left: 50%;z-index: 0;}#sk-container-id-5 div.sk-serial {display: flex;flex-direction: column;align-items: center;background-color: white;padding-right: 0.2em;padding-left: 0.2em;position: relative;}#sk-container-id-5 div.sk-item {position: relative;z-index: 1;}#sk-container-id-5 div.sk-parallel {display: flex;align-items: stretch;justify-content: center;background-color: white;position: relative;}#sk-container-id-5 div.sk-item::before, #sk-container-id-5 div.sk-parallel-item::before {content: \"\";position: absolute;border-left: 1px solid gray;box-sizing: border-box;top: 0;bottom: 0;left: 50%;z-index: -1;}#sk-container-id-5 div.sk-parallel-item {display: flex;flex-direction: column;z-index: 1;position: relative;background-color: white;}#sk-container-id-5 div.sk-parallel-item:first-child::after {align-self: flex-end;width: 50%;}#sk-container-id-5 div.sk-parallel-item:last-child::after {align-self: flex-start;width: 50%;}#sk-container-id-5 div.sk-parallel-item:only-child::after {width: 0;}#sk-container-id-5 div.sk-dashed-wrapped {border: 1px dashed gray;margin: 0 0.4em 0.5em 0.4em;box-sizing: border-box;padding-bottom: 0.4em;background-color: white;}#sk-container-id-5 div.sk-label label {font-family: monospace;font-weight: bold;display: inline-block;line-height: 1.2em;}#sk-container-id-5 div.sk-label-container {text-align: center;}#sk-container-id-5 div.sk-container {/* jupyter's `normalize.less` sets `[hidden] { display: none; }` but bootstrap.min.css set `[hidden] { display: none !important; }` so we also need the `!important` here to be able to override the default hidden behavior on the sphinx rendered scikit-learn.org. See: https://github.com/scikit-learn/scikit-learn/issues/21755 */display: inline-block !important;position: relative;}#sk-container-id-5 div.sk-text-repr-fallback {display: none;}</style><div id=\"sk-container-id-5\" class=\"sk-top-container\"><div class=\"sk-text-repr-fallback\"><pre>DecisionTreeClassifier()</pre><b>In a Jupyter environment, please rerun this cell to show the HTML representation or trust the notebook. <br />On GitHub, the HTML representation is unable to render, please try loading this page with nbviewer.org.</b></div><div class=\"sk-container\" hidden><div class=\"sk-item\"><div class=\"sk-estimator sk-toggleable\"><input class=\"sk-toggleable__control sk-hidden--visually\" id=\"sk-estimator-id-5\" type=\"checkbox\" checked><label for=\"sk-estimator-id-5\" class=\"sk-toggleable__label sk-toggleable__label-arrow\">DecisionTreeClassifier</label><div class=\"sk-toggleable__content\"><pre>DecisionTreeClassifier()</pre></div></div></div></div></div>"
     },
     "execution_count": 42,
     "metadata": {},
     "output_type": "execute_result"
    }
   ],
   "source": [
    "clf = DecisionTreeClassifier() # Inisiasi object algoritma DecisionTree\n",
    "\n",
    "# X itu adalah atribut feature yang telah digabungkan dan telah di ekstraksi\n",
    "# Y itu adalah atribut target yang ada isinya.\n",
    "clf.fit(X_train_tfidf, y_train)"
   ]
  },
  {
   "cell_type": "markdown",
   "id": "e95d945b3d2c1c19",
   "metadata": {
    "collapsed": false
   },
   "source": [
    "Kita akan langsung prediksi menggunkan model yang sudah dibangun."
   ]
  },
  {
   "cell_type": "code",
   "execution_count": 43,
   "id": "6ef1b70b6d60064d",
   "metadata": {
    "collapsed": false,
    "ExecuteTime": {
     "end_time": "2023-10-08T14:01:19.791992253Z",
     "start_time": "2023-10-08T14:01:19.784580637Z"
    }
   },
   "outputs": [],
   "source": [
    "y_pred = clf.predict(X_test_tfidf)"
   ]
  },
  {
   "cell_type": "markdown",
   "id": "c5fe6261e588b3b6",
   "metadata": {
    "collapsed": false
   },
   "source": [
    "Lalu kita ukur kinerja model nya."
   ]
  },
  {
   "cell_type": "code",
   "execution_count": 44,
   "id": "85bb4294e62909df",
   "metadata": {
    "collapsed": false,
    "ExecuteTime": {
     "end_time": "2023-10-08T14:01:19.951465819Z",
     "start_time": "2023-10-08T14:01:19.795768382Z"
    }
   },
   "outputs": [
    {
     "name": "stdout",
     "output_type": "stream",
     "text": [
      "Akurasi : 0.41\n",
      "Laporan Klasifikasi:\n",
      "                 precision    recall  f1-score   support\n",
      "\n",
      "          ARTS       0.29      0.29      0.29        14\n",
      "ARTS & CULTURE       0.08      0.10      0.09        10\n",
      "  BLACK VOICES       0.22      0.17      0.19        48\n",
      "      BUSINESS       0.16      0.16      0.16        62\n",
      "       COLLEGE       0.33      0.30      0.32        10\n",
      "        COMEDY       0.29      0.27      0.28        56\n",
      "         CRIME       0.09      0.12      0.11        25\n",
      "CULTURE & ARTS       0.20      0.11      0.14         9\n",
      "       DIVORCE       0.50      0.61      0.55        28\n",
      "     EDUCATION       0.50      0.40      0.44        15\n",
      " ENTERTAINMENT       0.46      0.48      0.47       138\n",
      "   ENVIRONMENT       0.00      0.00      0.00        14\n",
      "         FIFTY       0.00      0.00      0.00        10\n",
      "  FOOD & DRINK       0.36      0.46      0.40        56\n",
      "     GOOD NEWS       0.29      0.33      0.31        15\n",
      "         GREEN       0.08      0.06      0.07        32\n",
      "HEALTHY LIVING       0.22      0.23      0.22        66\n",
      " HOME & LIVING       0.55      0.40      0.47        42\n",
      "        IMPACT       0.09      0.08      0.08        36\n",
      " LATINO VOICES       0.45      0.45      0.45        11\n",
      "         MEDIA       0.30      0.29      0.29        28\n",
      "         MONEY       0.06      0.04      0.05        25\n",
      "     PARENTING       0.39      0.30      0.34        90\n",
      "       PARENTS       0.43      0.50      0.47        40\n",
      "      POLITICS       0.64      0.66      0.65       360\n",
      "  QUEER VOICES       0.59      0.63      0.61        57\n",
      "      RELIGION       0.19      0.18      0.18        34\n",
      "       SCIENCE       0.24      0.17      0.20        24\n",
      "        SPORTS       0.31      0.47      0.37        47\n",
      "         STYLE       0.50      0.35      0.41        20\n",
      "STYLE & BEAUTY       0.57      0.50      0.53        84\n",
      "         TASTE       0.50      0.41      0.45        17\n",
      "          TECH       0.32      0.28      0.30        29\n",
      " THE WORLDPOST       0.19      0.18      0.19        33\n",
      "        TRAVEL       0.43      0.50      0.46        82\n",
      "     U.S. NEWS       0.00      0.00      0.00        12\n",
      "      WEDDINGS       0.68      0.54      0.60        28\n",
      "    WEIRD NEWS       0.24      0.30      0.27        20\n",
      "      WELLNESS       0.48      0.54      0.51       184\n",
      "         WOMEN       0.31      0.26      0.28        35\n",
      "    WORLD NEWS       0.03      0.04      0.04        26\n",
      "     WORLDPOST       0.10      0.07      0.08        28\n",
      "\n",
      "      accuracy                           0.41      2000\n",
      "     macro avg       0.30      0.29      0.29      2000\n",
      "  weighted avg       0.40      0.41      0.40      2000\n"
     ]
    }
   ],
   "source": [
    "# kita bandingkan atribut target dengan atribut target hasil predict dari model \n",
    "accuracy = accuracy_score(y_test, y_pred)\n",
    "\n",
    "print(f'Akurasi : {accuracy:.2f}')\n",
    "\n",
    "classification_report = classification_report(y_test, y_pred)\n",
    "\n",
    "print('Laporan Klasifikasi:\\n', classification_report)"
   ]
  }
 ],
 "metadata": {
  "kernelspec": {
   "display_name": "Python 3 (ipykernel)",
   "language": "python",
   "name": "python3"
  },
  "language_info": {
   "codemirror_mode": {
    "name": "ipython",
    "version": 3
   },
   "file_extension": ".py",
   "mimetype": "text/x-python",
   "name": "python",
   "nbconvert_exporter": "python",
   "pygments_lexer": "ipython3",
   "version": "3.11.5"
  }
 },
 "nbformat": 4,
 "nbformat_minor": 5
}
